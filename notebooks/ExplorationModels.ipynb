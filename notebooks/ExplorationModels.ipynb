{
 "metadata": {
  "language_info": {
   "codemirror_mode": {
    "name": "ipython",
    "version": 3
   },
   "file_extension": ".py",
   "mimetype": "text/x-python",
   "name": "python",
   "nbconvert_exporter": "python",
   "pygments_lexer": "ipython3",
   "version": "3.7.4-final"
  },
  "orig_nbformat": 2,
  "kernelspec": {
   "name": "python3",
   "display_name": "Python 3"
  }
 },
 "nbformat": 4,
 "nbformat_minor": 2,
 "cells": [
  {
   "cell_type": "code",
   "execution_count": 1,
   "metadata": {},
   "outputs": [],
   "source": [
    "import pandas as pd\n",
    "import numpy as np\n",
    "import sklearn\n",
    "from sklearn.metrics import f1_score\n",
    "from sklearn.model_selection import train_test_split\n",
    "from sklearn.neighbors import KNeighborsClassifier\n",
    "from sklearn.tree import DecisionTreeClassifier\n",
    "from sklearn.ensemble import RandomForestClassifier, AdaBoostClassifier, GradientBoostingClassifier"
   ]
  },
  {
   "cell_type": "code",
   "execution_count": 2,
   "metadata": {},
   "outputs": [],
   "source": [
    "train_val = pd.read_csv('../input/train_val.csv', index_col=False)"
   ]
  },
  {
   "cell_type": "code",
   "execution_count": 3,
   "metadata": {},
   "outputs": [
    {
     "output_type": "execute_result",
     "data": {
      "text/plain": "0    3\n1    2\n2    3\n3    2\n4    3\nName: damage_grade, dtype: int64"
     },
     "metadata": {},
     "execution_count": 3
    }
   ],
   "source": [
    "train_val['damage_grade'].head()"
   ]
  },
  {
   "cell_type": "code",
   "execution_count": 4,
   "metadata": {
    "tags": []
   },
   "outputs": [
    {
     "output_type": "execute_result",
     "data": {
      "text/plain": "   building_id  geo_level_1_id  geo_level_2_id  geo_level_3_id  \\\n0       802906               6             487           12198   \n1        28830               8             900            2812   \n2        94947              21             363            8973   \n3       590882              22             418           10694   \n4       201944              11             131            1488   \n\n   count_floors_pre_eq   age  area_percentage  height_percentage  \\\n0                    2  30.0              6.0                5.0   \n1                    2  10.0              8.0                7.0   \n2                    2  10.0              5.0                5.0   \n3                    2  10.0              6.0                5.0   \n4                    3  30.0              8.0                9.0   \n\n   has_superstructure_adobe_mud  has_superstructure_mud_mortar_stone  ...  \\\n0                             1                                    1  ...   \n1                             0                                    1  ...   \n2                             0                                    1  ...   \n3                             0                                    1  ...   \n4                             1                                    0  ...   \n\n   legal_ownership_status_w  CntFloorAge  CntFloorsArea  CntFloorsHeight  \\\n0                         0     0.066445       0.333333         0.400000   \n1                         0     0.198020       0.250000         0.285714   \n2                         0     0.198020       0.400000         0.400000   \n3                         0     0.198020       0.333333         0.400000   \n4                         0     0.099668       0.375000         0.333333   \n\n   AreaPerAge  HeightPerAge  AreaPerHeight  CntFamFloors  CntFamArea  \\\n0    0.199336      0.166113       1.200000      0.500000    0.166667   \n1    0.792079      0.693069       1.142857      0.500000    0.125000   \n2    0.495050      0.495050       1.000000      0.500000    0.200000   \n3    0.594059      0.495050       1.200000      0.500000    0.166667   \n4    0.265781      0.299003       0.888889      0.333333    0.125000   \n\n   CntFamHeight  \n0      0.200000  \n1      0.142857  \n2      0.200000  \n3      0.200000  \n4      0.111111  \n\n[5 rows x 87 columns]",
      "text/html": "<div>\n<style scoped>\n    .dataframe tbody tr th:only-of-type {\n        vertical-align: middle;\n    }\n\n    .dataframe tbody tr th {\n        vertical-align: top;\n    }\n\n    .dataframe thead th {\n        text-align: right;\n    }\n</style>\n<table border=\"1\" class=\"dataframe\">\n  <thead>\n    <tr style=\"text-align: right;\">\n      <th></th>\n      <th>building_id</th>\n      <th>geo_level_1_id</th>\n      <th>geo_level_2_id</th>\n      <th>geo_level_3_id</th>\n      <th>count_floors_pre_eq</th>\n      <th>age</th>\n      <th>area_percentage</th>\n      <th>height_percentage</th>\n      <th>has_superstructure_adobe_mud</th>\n      <th>has_superstructure_mud_mortar_stone</th>\n      <th>...</th>\n      <th>legal_ownership_status_w</th>\n      <th>CntFloorAge</th>\n      <th>CntFloorsArea</th>\n      <th>CntFloorsHeight</th>\n      <th>AreaPerAge</th>\n      <th>HeightPerAge</th>\n      <th>AreaPerHeight</th>\n      <th>CntFamFloors</th>\n      <th>CntFamArea</th>\n      <th>CntFamHeight</th>\n    </tr>\n  </thead>\n  <tbody>\n    <tr>\n      <td>0</td>\n      <td>802906</td>\n      <td>6</td>\n      <td>487</td>\n      <td>12198</td>\n      <td>2</td>\n      <td>30.0</td>\n      <td>6.0</td>\n      <td>5.0</td>\n      <td>1</td>\n      <td>1</td>\n      <td>...</td>\n      <td>0</td>\n      <td>0.066445</td>\n      <td>0.333333</td>\n      <td>0.400000</td>\n      <td>0.199336</td>\n      <td>0.166113</td>\n      <td>1.200000</td>\n      <td>0.500000</td>\n      <td>0.166667</td>\n      <td>0.200000</td>\n    </tr>\n    <tr>\n      <td>1</td>\n      <td>28830</td>\n      <td>8</td>\n      <td>900</td>\n      <td>2812</td>\n      <td>2</td>\n      <td>10.0</td>\n      <td>8.0</td>\n      <td>7.0</td>\n      <td>0</td>\n      <td>1</td>\n      <td>...</td>\n      <td>0</td>\n      <td>0.198020</td>\n      <td>0.250000</td>\n      <td>0.285714</td>\n      <td>0.792079</td>\n      <td>0.693069</td>\n      <td>1.142857</td>\n      <td>0.500000</td>\n      <td>0.125000</td>\n      <td>0.142857</td>\n    </tr>\n    <tr>\n      <td>2</td>\n      <td>94947</td>\n      <td>21</td>\n      <td>363</td>\n      <td>8973</td>\n      <td>2</td>\n      <td>10.0</td>\n      <td>5.0</td>\n      <td>5.0</td>\n      <td>0</td>\n      <td>1</td>\n      <td>...</td>\n      <td>0</td>\n      <td>0.198020</td>\n      <td>0.400000</td>\n      <td>0.400000</td>\n      <td>0.495050</td>\n      <td>0.495050</td>\n      <td>1.000000</td>\n      <td>0.500000</td>\n      <td>0.200000</td>\n      <td>0.200000</td>\n    </tr>\n    <tr>\n      <td>3</td>\n      <td>590882</td>\n      <td>22</td>\n      <td>418</td>\n      <td>10694</td>\n      <td>2</td>\n      <td>10.0</td>\n      <td>6.0</td>\n      <td>5.0</td>\n      <td>0</td>\n      <td>1</td>\n      <td>...</td>\n      <td>0</td>\n      <td>0.198020</td>\n      <td>0.333333</td>\n      <td>0.400000</td>\n      <td>0.594059</td>\n      <td>0.495050</td>\n      <td>1.200000</td>\n      <td>0.500000</td>\n      <td>0.166667</td>\n      <td>0.200000</td>\n    </tr>\n    <tr>\n      <td>4</td>\n      <td>201944</td>\n      <td>11</td>\n      <td>131</td>\n      <td>1488</td>\n      <td>3</td>\n      <td>30.0</td>\n      <td>8.0</td>\n      <td>9.0</td>\n      <td>1</td>\n      <td>0</td>\n      <td>...</td>\n      <td>0</td>\n      <td>0.099668</td>\n      <td>0.375000</td>\n      <td>0.333333</td>\n      <td>0.265781</td>\n      <td>0.299003</td>\n      <td>0.888889</td>\n      <td>0.333333</td>\n      <td>0.125000</td>\n      <td>0.111111</td>\n    </tr>\n  </tbody>\n</table>\n<p>5 rows × 87 columns</p>\n</div>"
     },
     "metadata": {},
     "execution_count": 4
    }
   ],
   "source": [
    "train_val.head()"
   ]
  },
  {
   "cell_type": "code",
   "execution_count": 5,
   "metadata": {},
   "outputs": [],
   "source": [
    "train_val.drop('building_id', axis='columns', inplace=True)"
   ]
  },
  {
   "cell_type": "code",
   "execution_count": 6,
   "metadata": {},
   "outputs": [
    {
     "output_type": "execute_result",
     "data": {
      "text/plain": "       geo_level_1_id  geo_level_2_id  geo_level_3_id  count_floors_pre_eq  \\\ncount   260601.000000   260601.000000   260601.000000        260601.000000   \nmean        13.900353      701.074685     6257.876148             2.088626   \nstd          8.033617      412.710734     3646.369645             0.625412   \nmin          0.000000        0.000000        0.000000             1.000000   \n25%          7.000000      350.000000     3073.000000             2.000000   \n50%         12.000000      702.000000     6270.000000             2.000000   \n75%         21.000000     1050.000000     9412.000000             2.000000   \nmax         30.000000     1427.000000    12567.000000             3.000000   \n\n                 age  area_percentage  height_percentage  \\\ncount  260601.000000    260601.000000      260601.000000   \nmean       21.514442         7.900967           5.414523   \nstd        19.268494         3.727604           1.800279   \nmin         0.000000         1.000000           2.000000   \n25%        10.000000         5.000000           4.000000   \n50%        15.000000         7.000000           5.000000   \n75%        30.000000         9.000000           6.000000   \nmax        90.000000        21.000000          12.000000   \n\n       has_superstructure_adobe_mud  has_superstructure_mud_mortar_stone  \\\ncount                 260601.000000                        260601.000000   \nmean                       0.088645                             0.761935   \nstd                        0.284231                             0.425900   \nmin                        0.000000                             0.000000   \n25%                        0.000000                             1.000000   \n50%                        0.000000                             1.000000   \n75%                        0.000000                             1.000000   \nmax                        1.000000                             1.000000   \n\n       has_superstructure_stone_flag  ...  legal_ownership_status_w  \\\ncount                  260601.000000  ...             260601.000000   \nmean                        0.034332  ...                  0.010272   \nstd                         0.182081  ...                  0.100831   \nmin                         0.000000  ...                  0.000000   \n25%                         0.000000  ...                  0.000000   \n50%                         0.000000  ...                  0.000000   \n75%                         0.000000  ...                  0.000000   \nmax                         1.000000  ...                  1.000000   \n\n         CntFloorAge  CntFloorsArea  CntFloorsHeight     AreaPerAge  \\\ncount  260601.000000  260601.000000    260601.000000  260601.000000   \nmean        1.955842       0.317041         0.397145       8.919656   \nstd         5.830457       0.170883         0.086940      28.451033   \nmin         0.011099       0.047619         0.083333       0.011751   \n25%         0.066445       0.200000         0.333333       0.232558   \n50%         0.132450       0.285714         0.400000       0.431894   \n75%         0.198675       0.400000         0.500000       0.980392   \nmax        30.000000       3.000000         1.500000     210.000000   \n\n        HeightPerAge  AreaPerHeight   CntFamFloors     CntFamArea  \\\ncount  260601.000000  260601.000000  260601.000000  260601.000000   \nmean        5.241824       1.595962       0.521725       0.150120   \nstd        15.802215       0.939023       0.290443       0.093597   \nmin         0.022198       0.083333       0.000000       0.000000   \n25%         0.179641       1.000000       0.333333       0.100000   \n50%         0.298507       1.400000       0.500000       0.142857   \n75%         0.594059       1.857143       0.500000       0.200000   \nmax       120.000000      10.500000       9.000000       2.500000   \n\n        CntFamHeight  \ncount  260601.000000  \nmean        0.202842  \nstd         0.112687  \nmin         0.000000  \n25%         0.142857  \n50%         0.200000  \n75%         0.250000  \nmax         3.500000  \n\n[8 rows x 86 columns]",
      "text/html": "<div>\n<style scoped>\n    .dataframe tbody tr th:only-of-type {\n        vertical-align: middle;\n    }\n\n    .dataframe tbody tr th {\n        vertical-align: top;\n    }\n\n    .dataframe thead th {\n        text-align: right;\n    }\n</style>\n<table border=\"1\" class=\"dataframe\">\n  <thead>\n    <tr style=\"text-align: right;\">\n      <th></th>\n      <th>geo_level_1_id</th>\n      <th>geo_level_2_id</th>\n      <th>geo_level_3_id</th>\n      <th>count_floors_pre_eq</th>\n      <th>age</th>\n      <th>area_percentage</th>\n      <th>height_percentage</th>\n      <th>has_superstructure_adobe_mud</th>\n      <th>has_superstructure_mud_mortar_stone</th>\n      <th>has_superstructure_stone_flag</th>\n      <th>...</th>\n      <th>legal_ownership_status_w</th>\n      <th>CntFloorAge</th>\n      <th>CntFloorsArea</th>\n      <th>CntFloorsHeight</th>\n      <th>AreaPerAge</th>\n      <th>HeightPerAge</th>\n      <th>AreaPerHeight</th>\n      <th>CntFamFloors</th>\n      <th>CntFamArea</th>\n      <th>CntFamHeight</th>\n    </tr>\n  </thead>\n  <tbody>\n    <tr>\n      <td>count</td>\n      <td>260601.000000</td>\n      <td>260601.000000</td>\n      <td>260601.000000</td>\n      <td>260601.000000</td>\n      <td>260601.000000</td>\n      <td>260601.000000</td>\n      <td>260601.000000</td>\n      <td>260601.000000</td>\n      <td>260601.000000</td>\n      <td>260601.000000</td>\n      <td>...</td>\n      <td>260601.000000</td>\n      <td>260601.000000</td>\n      <td>260601.000000</td>\n      <td>260601.000000</td>\n      <td>260601.000000</td>\n      <td>260601.000000</td>\n      <td>260601.000000</td>\n      <td>260601.000000</td>\n      <td>260601.000000</td>\n      <td>260601.000000</td>\n    </tr>\n    <tr>\n      <td>mean</td>\n      <td>13.900353</td>\n      <td>701.074685</td>\n      <td>6257.876148</td>\n      <td>2.088626</td>\n      <td>21.514442</td>\n      <td>7.900967</td>\n      <td>5.414523</td>\n      <td>0.088645</td>\n      <td>0.761935</td>\n      <td>0.034332</td>\n      <td>...</td>\n      <td>0.010272</td>\n      <td>1.955842</td>\n      <td>0.317041</td>\n      <td>0.397145</td>\n      <td>8.919656</td>\n      <td>5.241824</td>\n      <td>1.595962</td>\n      <td>0.521725</td>\n      <td>0.150120</td>\n      <td>0.202842</td>\n    </tr>\n    <tr>\n      <td>std</td>\n      <td>8.033617</td>\n      <td>412.710734</td>\n      <td>3646.369645</td>\n      <td>0.625412</td>\n      <td>19.268494</td>\n      <td>3.727604</td>\n      <td>1.800279</td>\n      <td>0.284231</td>\n      <td>0.425900</td>\n      <td>0.182081</td>\n      <td>...</td>\n      <td>0.100831</td>\n      <td>5.830457</td>\n      <td>0.170883</td>\n      <td>0.086940</td>\n      <td>28.451033</td>\n      <td>15.802215</td>\n      <td>0.939023</td>\n      <td>0.290443</td>\n      <td>0.093597</td>\n      <td>0.112687</td>\n    </tr>\n    <tr>\n      <td>min</td>\n      <td>0.000000</td>\n      <td>0.000000</td>\n      <td>0.000000</td>\n      <td>1.000000</td>\n      <td>0.000000</td>\n      <td>1.000000</td>\n      <td>2.000000</td>\n      <td>0.000000</td>\n      <td>0.000000</td>\n      <td>0.000000</td>\n      <td>...</td>\n      <td>0.000000</td>\n      <td>0.011099</td>\n      <td>0.047619</td>\n      <td>0.083333</td>\n      <td>0.011751</td>\n      <td>0.022198</td>\n      <td>0.083333</td>\n      <td>0.000000</td>\n      <td>0.000000</td>\n      <td>0.000000</td>\n    </tr>\n    <tr>\n      <td>25%</td>\n      <td>7.000000</td>\n      <td>350.000000</td>\n      <td>3073.000000</td>\n      <td>2.000000</td>\n      <td>10.000000</td>\n      <td>5.000000</td>\n      <td>4.000000</td>\n      <td>0.000000</td>\n      <td>1.000000</td>\n      <td>0.000000</td>\n      <td>...</td>\n      <td>0.000000</td>\n      <td>0.066445</td>\n      <td>0.200000</td>\n      <td>0.333333</td>\n      <td>0.232558</td>\n      <td>0.179641</td>\n      <td>1.000000</td>\n      <td>0.333333</td>\n      <td>0.100000</td>\n      <td>0.142857</td>\n    </tr>\n    <tr>\n      <td>50%</td>\n      <td>12.000000</td>\n      <td>702.000000</td>\n      <td>6270.000000</td>\n      <td>2.000000</td>\n      <td>15.000000</td>\n      <td>7.000000</td>\n      <td>5.000000</td>\n      <td>0.000000</td>\n      <td>1.000000</td>\n      <td>0.000000</td>\n      <td>...</td>\n      <td>0.000000</td>\n      <td>0.132450</td>\n      <td>0.285714</td>\n      <td>0.400000</td>\n      <td>0.431894</td>\n      <td>0.298507</td>\n      <td>1.400000</td>\n      <td>0.500000</td>\n      <td>0.142857</td>\n      <td>0.200000</td>\n    </tr>\n    <tr>\n      <td>75%</td>\n      <td>21.000000</td>\n      <td>1050.000000</td>\n      <td>9412.000000</td>\n      <td>2.000000</td>\n      <td>30.000000</td>\n      <td>9.000000</td>\n      <td>6.000000</td>\n      <td>0.000000</td>\n      <td>1.000000</td>\n      <td>0.000000</td>\n      <td>...</td>\n      <td>0.000000</td>\n      <td>0.198675</td>\n      <td>0.400000</td>\n      <td>0.500000</td>\n      <td>0.980392</td>\n      <td>0.594059</td>\n      <td>1.857143</td>\n      <td>0.500000</td>\n      <td>0.200000</td>\n      <td>0.250000</td>\n    </tr>\n    <tr>\n      <td>max</td>\n      <td>30.000000</td>\n      <td>1427.000000</td>\n      <td>12567.000000</td>\n      <td>3.000000</td>\n      <td>90.000000</td>\n      <td>21.000000</td>\n      <td>12.000000</td>\n      <td>1.000000</td>\n      <td>1.000000</td>\n      <td>1.000000</td>\n      <td>...</td>\n      <td>1.000000</td>\n      <td>30.000000</td>\n      <td>3.000000</td>\n      <td>1.500000</td>\n      <td>210.000000</td>\n      <td>120.000000</td>\n      <td>10.500000</td>\n      <td>9.000000</td>\n      <td>2.500000</td>\n      <td>3.500000</td>\n    </tr>\n  </tbody>\n</table>\n<p>8 rows × 86 columns</p>\n</div>"
     },
     "metadata": {},
     "execution_count": 6
    }
   ],
   "source": [
    "train_val.describe()"
   ]
  },
  {
   "cell_type": "code",
   "execution_count": 7,
   "metadata": {},
   "outputs": [],
   "source": [
    "X = train_val.loc[:, train_val.columns != 'damage_grade']\n",
    "y = train_val.loc[:, train_val.columns == 'damage_grade']"
   ]
  },
  {
   "cell_type": "code",
   "execution_count": 15,
   "metadata": {},
   "outputs": [],
   "source": [
    "classifiers = [\n",
    "    KNeighborsClassifier(),\n",
    "    DecisionTreeClassifier(),\n",
    "    RandomForestClassifier(),\n",
    "    AdaBoostClassifier(),\n",
    "    GradientBoostingClassifier()\n",
    "]"
   ]
  },
  {
   "cell_type": "code",
   "execution_count": 16,
   "metadata": {},
   "outputs": [],
   "source": [
    "def model_and_test(X, y, classifiers):\n",
    "    X_train, X_test, y_train, y_test = train_test_split(X, y, test_size = 0.1, random_state = 35)\n",
    "    \n",
    "    for model in classifiers:\n",
    "        this_model = model.__class__.__name__\n",
    "        model.fit(X_train, y_train)\n",
    "        y_pred = model.predict(X_test)\n",
    "\n",
    "        print(f'{this_model} f1 score:')\n",
    "        score = f1_score(y_test, y_pred, average='micro')\n",
    "        print(f'{score:.4f}')\n",
    "        print('\\n')"
   ]
  },
  {
   "cell_type": "code",
   "execution_count": 17,
   "metadata": {
    "tags": []
   },
   "outputs": [
    {
     "output_type": "stream",
     "name": "stdout",
     "text": "KNeighborsClassifier f1 score:\n0.7020\n\n\nDecisionTreeClassifier f1 score:\n0.6758\n\n\nRandomForestClassifier f1 score:\n0.7433\n\n\nAdaBoostClassifier f1 score:\n0.7482\n\n\nGradientBoostingClassifier f1 score:\n0.7614\n\n\n"
    }
   ],
   "source": [
    "model_and_test(X, y, classifiers)"
   ]
  },
  {
   "cell_type": "code",
   "execution_count": 20,
   "metadata": {
    "tags": []
   },
   "outputs": [
    {
     "output_type": "stream",
     "name": "stdout",
     "text": "RandomForestClassifier() f1 score:\n0.7454\n\n\n"
    }
   ],
   "source": [
    "X_train, X_test, y_train, y_test = train_test_split(X, y, test_size = 0.1, random_state = 35)\n",
    "    \n",
    "model = RandomForestClassifier()\n",
    "model.fit(X_train, y_train)\n",
    "y_pred = model.predict(X_test)\n",
    "\n",
    "print(f'{model} f1 score:')\n",
    "score = f1_score(y_test, y_pred, average='micro')\n",
    "print(f'{score:.4f}')\n",
    "print('\\n')"
   ]
  },
  {
   "cell_type": "code",
   "execution_count": 21,
   "metadata": {},
   "outputs": [],
   "source": [
    "important_features = pd.DataFrame(model.feature_importances_, index = X_train.columns,\n",
    "columns = ['importance']).sort_values('importance', ascending=False)"
   ]
  },
  {
   "cell_type": "code",
   "execution_count": 25,
   "metadata": {},
   "outputs": [
    {
     "output_type": "execute_result",
     "data": {
      "text/plain": "                                     importance\nprob2_geo3                             0.100189\nprob3_geo2                             0.060624\nprob2_geo2                             0.054308\nprob1_geo3                             0.045690\nAreaPerAge                             0.045466\nHeightPerAge                           0.037239\nAreaPerHeight                          0.032760\nprob1_geo2                             0.032618\nCntFloorAge                            0.029521\nCntFloorsArea                          0.026981\nage                                    0.026030\nCntFamArea                             0.025928\ngeo_level_3_id                         0.025655\narea_percentage                        0.025101\nprob2_geo1                             0.024456\nprob3_geo1                             0.022397\nprob1_geo1                             0.020098\ngeo_level_2_id                         0.018571\nCntFamHeight                           0.016452\nCntFloorsHeight                        0.014383\nheight_percentage                      0.014193\ngeo_level_1_id                         0.011461\nfoundation_type_r                      0.009677\nground_floor_type_v                    0.008621\nCntFamFloors                           0.008387\nhas_superstructure_mud_mortar_stone    0.008152\nposition_s                             0.007693\nposition_t                             0.007467\nroof_type_n                            0.006771",
      "text/html": "<div>\n<style scoped>\n    .dataframe tbody tr th:only-of-type {\n        vertical-align: middle;\n    }\n\n    .dataframe tbody tr th {\n        vertical-align: top;\n    }\n\n    .dataframe thead th {\n        text-align: right;\n    }\n</style>\n<table border=\"1\" class=\"dataframe\">\n  <thead>\n    <tr style=\"text-align: right;\">\n      <th></th>\n      <th>importance</th>\n    </tr>\n  </thead>\n  <tbody>\n    <tr>\n      <td>prob2_geo3</td>\n      <td>0.100189</td>\n    </tr>\n    <tr>\n      <td>prob3_geo2</td>\n      <td>0.060624</td>\n    </tr>\n    <tr>\n      <td>prob2_geo2</td>\n      <td>0.054308</td>\n    </tr>\n    <tr>\n      <td>prob1_geo3</td>\n      <td>0.045690</td>\n    </tr>\n    <tr>\n      <td>AreaPerAge</td>\n      <td>0.045466</td>\n    </tr>\n    <tr>\n      <td>HeightPerAge</td>\n      <td>0.037239</td>\n    </tr>\n    <tr>\n      <td>AreaPerHeight</td>\n      <td>0.032760</td>\n    </tr>\n    <tr>\n      <td>prob1_geo2</td>\n      <td>0.032618</td>\n    </tr>\n    <tr>\n      <td>CntFloorAge</td>\n      <td>0.029521</td>\n    </tr>\n    <tr>\n      <td>CntFloorsArea</td>\n      <td>0.026981</td>\n    </tr>\n    <tr>\n      <td>age</td>\n      <td>0.026030</td>\n    </tr>\n    <tr>\n      <td>CntFamArea</td>\n      <td>0.025928</td>\n    </tr>\n    <tr>\n      <td>geo_level_3_id</td>\n      <td>0.025655</td>\n    </tr>\n    <tr>\n      <td>area_percentage</td>\n      <td>0.025101</td>\n    </tr>\n    <tr>\n      <td>prob2_geo1</td>\n      <td>0.024456</td>\n    </tr>\n    <tr>\n      <td>prob3_geo1</td>\n      <td>0.022397</td>\n    </tr>\n    <tr>\n      <td>prob1_geo1</td>\n      <td>0.020098</td>\n    </tr>\n    <tr>\n      <td>geo_level_2_id</td>\n      <td>0.018571</td>\n    </tr>\n    <tr>\n      <td>CntFamHeight</td>\n      <td>0.016452</td>\n    </tr>\n    <tr>\n      <td>CntFloorsHeight</td>\n      <td>0.014383</td>\n    </tr>\n    <tr>\n      <td>height_percentage</td>\n      <td>0.014193</td>\n    </tr>\n    <tr>\n      <td>geo_level_1_id</td>\n      <td>0.011461</td>\n    </tr>\n    <tr>\n      <td>foundation_type_r</td>\n      <td>0.009677</td>\n    </tr>\n    <tr>\n      <td>ground_floor_type_v</td>\n      <td>0.008621</td>\n    </tr>\n    <tr>\n      <td>CntFamFloors</td>\n      <td>0.008387</td>\n    </tr>\n    <tr>\n      <td>has_superstructure_mud_mortar_stone</td>\n      <td>0.008152</td>\n    </tr>\n    <tr>\n      <td>position_s</td>\n      <td>0.007693</td>\n    </tr>\n    <tr>\n      <td>position_t</td>\n      <td>0.007467</td>\n    </tr>\n    <tr>\n      <td>roof_type_n</td>\n      <td>0.006771</td>\n    </tr>\n  </tbody>\n</table>\n</div>"
     },
     "metadata": {},
     "execution_count": 25
    }
   ],
   "source": [
    "important_features.iloc[1:30, :]"
   ]
  },
  {
   "cell_type": "code",
   "execution_count": null,
   "metadata": {},
   "outputs": [],
   "source": []
  }
 ]
}